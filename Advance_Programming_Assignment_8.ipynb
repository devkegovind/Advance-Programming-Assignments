{
  "nbformat": 4,
  "nbformat_minor": 0,
  "metadata": {
    "colab": {
      "provenance": []
    },
    "kernelspec": {
      "name": "python3",
      "display_name": "Python 3"
    },
    "language_info": {
      "name": "python"
    }
  },
  "cells": [
    {
      "cell_type": "markdown",
      "source": [
        "---\n",
        "<h1 align='center'><b>ADVANCE PROGRAMMING ASSIGNMENT NO.8</b>\n",
        "</h1>\n",
        "\n",
        "---"
      ],
      "metadata": {
        "id": "Fhh9wGMqT4L6"
      }
    },
    {
      "cell_type": "markdown",
      "source": [
        "<h4 align = 'justify'><b>Q1. What are the two latest \n",
        "constraints in Python 3\n",
        ".X?</b></h4>\n",
        "<h4 align = 'justify'>1. raise statement - This is used to raise an inbuilt exception explicitly.</h4>\n",
        "<h4 align = 'justify'>2. assert statement - when condition in assert statement is true, program is executed normally. When condition is false, program gives an AssertionError.</h4>"
      ],
      "metadata": {
        "id": "HsgKFe2fT-RS"
      }
    },
    {
      "cell_type": "markdown",
      "source": [
        "<h4 align = 'justify'><b>Q2. How are class-based exceptions that have been raised matched to handlers?</b></h4>\n",
        "<h4 align = 'justify'>When exceptions are raised, then the exception is handled by the same class mentioned in except statement or its base classes. \"Exception\" is the base class(Superclass) for all other exception classes.</h4>"
      ],
      "metadata": {
        "id": "HQpM194ab31Z"
      }
    },
    {
      "cell_type": "markdown",
      "source": [
        "<h4 align = 'justify'><b>Q3. Describe two methods for attaching context information \n",
        "to exception artefacts.</b></\n",
        "h4>\n",
        "<h4 align = 'justify'>1.By using logging.exception() method, we can log log messages with level ERROR on the logger. I will store the information like type of error, line number, file name and path.</h4>\n",
        "<h4 align='justify'>2.By using raise keyword. It will also display Traceback of the recent exception raised.</h4>"
      ],
      "metadata": {
        "id": "sU6AhGh0b5ph"
      }
    },
    {
      "cell_type": "code",
      "source": [
        "import logging\n",
        "try:\n",
        "  4/0\n",
        "except Exception as e:\n",
        "  logging.exception(e)\n",
        "  raise"
      ],
      "metadata": {
        "colab": {
          "base_uri": "https://localhost:8080/",
          "height": 332
        },
        "id": "vmXtCa1gfPNt",
        "outputId": "635b6fb6-b49f-4d13-e76d-145a4e1860e8"
      },
      "execution_count": 1,
      "outputs": [
        {
          "output_type": "stream",
          "name": "stderr",
          "text": [
            "ERROR:root:division by zero\n",
            "Traceback (most recent call last):\n",
            "  File \"<ipython-input-1-2827cf305a51>\", line 3, in <module>\n",
            "    4/0\n",
            "ZeroDivisionError: division by zero\n"
          ]
        },
        {
          "output_type": "error",
          "ename": "ZeroDivisionError",
          "evalue": "ignored",
          "traceback": [
            "\u001b[0;31m---------------------------------------------------------------------------\u001b[0m",
            "\u001b[0;31mZeroDivisionError\u001b[0m                         Traceback (most recent call last)",
            "\u001b[0;32m<ipython-input-1-2827cf305a51>\u001b[0m in \u001b[0;36m<module>\u001b[0;34m\u001b[0m\n\u001b[1;32m      1\u001b[0m \u001b[0;32mimport\u001b[0m \u001b[0mlogging\u001b[0m\u001b[0;34m\u001b[0m\u001b[0;34m\u001b[0m\u001b[0m\n\u001b[1;32m      2\u001b[0m \u001b[0;32mtry\u001b[0m\u001b[0;34m:\u001b[0m\u001b[0;34m\u001b[0m\u001b[0;34m\u001b[0m\u001b[0m\n\u001b[0;32m----> 3\u001b[0;31m   \u001b[0;36m4\u001b[0m\u001b[0;34m/\u001b[0m\u001b[0;36m0\u001b[0m\u001b[0;34m\u001b[0m\u001b[0;34m\u001b[0m\u001b[0m\n\u001b[0m\u001b[1;32m      4\u001b[0m \u001b[0;32mexcept\u001b[0m \u001b[0mException\u001b[0m \u001b[0;32mas\u001b[0m \u001b[0me\u001b[0m\u001b[0;34m:\u001b[0m\u001b[0;34m\u001b[0m\u001b[0;34m\u001b[0m\u001b[0m\n\u001b[1;32m      5\u001b[0m   \u001b[0mlogging\u001b[0m\u001b[0;34m.\u001b[0m\u001b[0mexception\u001b[0m\u001b[0;34m(\u001b[0m\u001b[0me\u001b[0m\u001b[0;34m)\u001b[0m\u001b[0;34m\u001b[0m\u001b[0;34m\u001b[0m\u001b[0m\n",
            "\u001b[0;31mZeroDivisionError\u001b[0m: division by zero"
          ]
        }
      ]
    },
    {
      "cell_type": "markdown",
      "source": [
        "<h4 align = 'justify'><b>Q4. Describe two methods for \n",
        "specifying the text of an \n",
        "exception object&#39;s err\n",
        "or message.</b></h4>\n",
        "<h4 align = 'justify'>1.We can print the text of an exception, by using the object of an Exception class. We can access different attributes like messgae, args, traceback from that object.</h4>\n",
        "<h4 align = 'justify'>By using logging.error() method</h4>"
      ],
      "metadata": {
        "id": "RElKFQ4Bb8KP"
      }
    },
    {
      "cell_type": "code",
      "source": [
        "try:\n",
        "  a = 'abc'\n",
        "  b = 2\n",
        "  c = a + b\n",
        "except TypeError as e:\n",
        "  print(e)"
      ],
      "metadata": {
        "colab": {
          "base_uri": "https://localhost:8080/"
        },
        "id": "Ezru2pz-fzAa",
        "outputId": "e6a932f1-00e3-43d3-b550-883d52f41c2b"
      },
      "execution_count": 2,
      "outputs": [
        {
          "output_type": "stream",
          "name": "stdout",
          "text": [
            "can only concatenate str (not \"int\") to str\n"
          ]
        }
      ]
    },
    {
      "cell_type": "markdown",
      "source": [
        "<h4 align = 'justify'><b>Q5. Why do you no longer use string-based exceptions?</b></h4>\n",
        "<h4 align = 'justify'>In Python versions 1.5 and earlier, Exceptions were strings and not classes. Now all exceptions are classes, derived from the superclass BaseException. With classes it is more efficiently handled as classes have many useful features.</h4>"
      ],
      "metadata": {
        "id": "D7D5BYp5b-P4"
      }
    }
  ]
}