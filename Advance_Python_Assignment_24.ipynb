{
  "nbformat": 4,
  "nbformat_minor": 0,
  "metadata": {
    "colab": {
      "provenance": []
    },
    "kernelspec": {
      "name": "python3",
      "display_name": "Python 3"
    },
    "language_info": {
      "name": "python"
    }
  },
  "cells": [
    {
      "cell_type": "markdown",
      "source": [
        "---\n",
        "<h1 align='center'><b>ADVANCE PYTHON ASSIGNMENT NO.24</b></h1>\n",
        "\n",
        "\n",
        "---"
      ],
      "metadata": {
        "id": "Y0GKGqG9jsJw"
      }
    },
    {
      "cell_type": "markdown",
      "source": [
        "<h4 align='justify'><b>Q1. Is it permissible to use several import statements to import the same module? What would the\n",
        "goal be? Can you think of a situation where it would be beneficial?\n",
        "</b></h4>Yes, we can use more than one import statement to import the same module more than once. This is come into action when support we want to import some other function or class from the base class of any module for example.</h4>\n",
        "\n",
        "\n",
        "```\n",
        "from sklearn.preprocessing import LabelEncoder\n",
        "from sklearn.Linear_model import LinearRegression\n",
        "```\n",
        "\n",
        "\n"
      ],
      "metadata": {
        "id": "YPOeVP-Gjr-5"
      }
    },
    {
      "cell_type": "markdown",
      "source": [
        "<h4 align='justify'><b>Q2. What are some of a module&#39;s characteristics? (Name at least one.)</b></h4>\n",
        "\n",
        "- name : It returns the name of the module.\n",
        "- doc : It denotes the documentation string line written in a module.\n",
        "- code.file : It holds the name and path of the module file from which it is loaded.\n",
        "- dict : It return a dictionary object of module attributes, functions and other definitions and their respective values.\n"
      ],
      "metadata": {
        "id": "7CQL-Ox2ki8b"
      }
    },
    {
      "cell_type": "markdown",
      "source": [
        "<h4 align='justify'><b>Q3. Circular importing, such as when two modules import each other, can lead to dependencies and\n",
        "bugs that aren&#39;t visible. How can you go about creating a program that avoids mutual importing?</b></h4>\n",
        "<h4 align='justify'>\n",
        "\n",
        "- Circular importing means importin the two modules in each other. If suppose we are working in MOD1.py file and it is importing some function say F2() from some other module say MOD2.py file or we can do vice-versa.\n",
        "- What will happen is: This will give an import error. This is because when we import F2() function from module MOD2.py, then this will execute MOD2.py file. And in MOD2.py file there is an another statement of importing MOD1.py module. \n",
        "- This will result in endless loop. To avoid this error just do one thing-We can use if name == 'main'. In the function, you can't directly refer to the function in the program. The addition of this sentences avoids the endless loop of the program.</h4>"
      ],
      "metadata": {
        "id": "IWN2T7FQkmFS"
      }
    },
    {
      "cell_type": "markdown",
      "source": [
        "<h4 align='justify'><b>Q4. Why is _ _all_ _ in Python?</b></h4>\n",
        "<h4 align='justify'>It specifies all the modules present in the particular library and those can be called we use import * </h4>"
      ],
      "metadata": {
        "id": "Y5Wwim9ykozp"
      }
    },
    {
      "cell_type": "markdown",
      "source": [
        "<h4 align='justify'><b>\n",
        "Q5. In what situation is it useful to refer to the _ _name_ _ attribute or the string &#39;_ _main_ _&#39;?</b></h4>\n",
        "<h4 align='justify'>During the time of execution of the code if we want refer the module in which we are working on the we uses name attribute. In that case it will return the module in which we are working on. Suppose if that module is being imported from some other module then name will have the name of that module from where the current module has been imported. The current module in which we are working is refer to the string '__main__'.</h4>"
      ],
      "metadata": {
        "id": "KGqnvFaOksgg"
      }
    },
    {
      "cell_type": "markdown",
      "source": [
        "<h4 align='justify'><b>\n",
        "Q6. What are some of the benefits of attaching a program counter to the RPN interpreter application, which interprets an RPN script line by line?</b></h4>\n",
        "<h4 align='justify'>RPN saves time and keystrokes. You avoid using and keeping track of parenthesis while doing calculations. The process is similar to the way you learned math on paper. You can see the intermediary result as you perform your computations rather just the answer at the end.</h4>"
      ],
      "metadata": {
        "id": "6avSadwRku8R"
      }
    },
    {
      "cell_type": "markdown",
      "source": [
        "<h4 align='justify'><b>\n",
        "Q7. What are the minimum expressions or statements (or both) that you&#39;d need to render a basic programming language like RPN primitive but complete— that is, capable of carrying out any computerised task theoretically possible?</b></h4>\n",
        "<h4 align='justify'>Notations : +-/*</h4>\n",
        "\n",
        "*   These are the basic notations we require to carry out a computerised task, like RPN Primitive.\n",
        "*   We also need a particular data structure for storing elements from a statements except operators."
      ],
      "metadata": {
        "id": "bAA0142gkxUI"
      }
    }
  ]
}