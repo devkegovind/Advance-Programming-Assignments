{
  "nbformat": 4,
  "nbformat_minor": 0,
  "metadata": {
    "colab": {
      "provenance": [],
      "authorship_tag": "ABX9TyMFY9XTJsv3XYRrEPoErXnA",
      "include_colab_link": true
    },
    "kernelspec": {
      "name": "python3",
      "display_name": "Python 3"
    },
    "language_info": {
      "name": "python"
    }
  },
  "cells": [
    {
      "cell_type": "markdown",
      "metadata": {
        "id": "view-in-github",
        "colab_type": "text"
      },
      "source": [
        "<a href=\"https://colab.research.google.com/github/devkegovind/Advance-Python-Assignments/blob/main/Advance_Python_Assignment_25.ipynb\" target=\"_parent\"><img src=\"https://colab.research.google.com/assets/colab-badge.svg\" alt=\"Open In Colab\"/></a>"
      ]
    },
    {
      "cell_type": "markdown",
      "source": [
        "---\n",
        "<h1 align='center'><b>ADVANCE PYTHON ASSIGNMENT NO.25</b></h1>\n",
        "\n",
        "\n",
        "---"
      ],
      "metadata": {
        "id": "dwCLXFhgk6Uf"
      }
    },
    {
      "cell_type": "markdown",
      "source": [
        "Q1. What is the distinction between a numpy array and a pandas data frame? Is there a way to\n",
        "convert between the two if there is?\n",
        "\n",
        "Q2. What can go wrong when an user enters in a stock-ticker symbol, and how do you handle it?\n",
        "\n",
        "Q3. Identify some of the plotting techniques that are used to produce a stock-market chart.\n",
        "\n",
        "Q4. Why is it essential to print a legend on a stock market chart?\n",
        "\n",
        "Q5. What is the best way to limit the length of a pandas data frame to less than a year?\n",
        "\n",
        "Q6. What is the definition of a 180-day moving average?\n",
        "\n",
        "Q7. Did the chapter&#39;s final example use &quot;indirect&quot; importing? If so, how exactly do you do it?"
      ],
      "metadata": {
        "id": "37wGdc8Zk6Ii"
      }
    },
    {
      "cell_type": "code",
      "execution_count": null,
      "metadata": {
        "id": "CIupZU0dk5CT"
      },
      "outputs": [],
      "source": []
    }
  ]
}