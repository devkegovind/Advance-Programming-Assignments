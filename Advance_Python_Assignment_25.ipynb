{
  "nbformat": 4,
  "nbformat_minor": 0,
  "metadata": {
    "colab": {
      "provenance": [],
      "authorship_tag": "ABX9TyNmswRZpHuOE70wuE6Upmi4"
    },
    "kernelspec": {
      "name": "python3",
      "display_name": "Python 3"
    },
    "language_info": {
      "name": "python"
    }
  },
  "cells": [
    {
      "cell_type": "markdown",
      "source": [
        "---\n",
        "<h1 align='center'><b>ADVANCE PYTHON ASSIGNMENT NO.25</b></h1>\n",
        "\n",
        "\n",
        "---"
      ],
      "metadata": {
        "id": "dwCLXFhgk6Uf"
      }
    },
    {
      "cell_type": "markdown",
      "source": [
        "<h4 align='justify'><b>Q1. What is the distinction between a numpy array and a pandas data frame? Is there a way to\n",
        "convert between the two if there is?</b></h4>\n",
        "<h4 align='justify'>Numpy is memory efficient. Pandas has a better performance when a number of rows is 500K or more. Numpy has a better performance when number of rows is 50K or less. Indexing of the pandas series is very slow as compared to numpy arrays.</h4>\n",
        "\n",
        "- Mathematical operations which is not generally easy manually to perform in coding case.\n",
        "- It may be of any dimensions like 1D, 2D, 3D, 4D, etc. depend upon the use to requirement.\n",
        "- Unlike dataframe, numpy array are not in a tabular form which have records and have fields instead it is in the form of matrices.\n",
        "- It can have single row and single column as well as but dataframe passes more than one column.\n",
        "<h4><b>Dataframe :</b></h4>\n",
        "- This is a kind of tabular structure format which are having more than one column.\n",
        "- Unlike numpy array which can have more single as well as many number of columns, but dataframe have more than one column.\n",
        "- Dataframe can have any number of dimensions but it should be more than one. We can use numpy array operation in dataframe and can also convert the numpy array into dataframe.\n",
        "- We can convert between the two in following in manner: "
      ],
      "metadata": {
        "id": "37wGdc8Zk6Ii"
      }
    },
    {
      "cell_type": "code",
      "source": [
        "import pandas as pd\n",
        "import numpy as np\n",
        "array = np.arange(10).reshape(2, 5)\n",
        "array"
      ],
      "metadata": {
        "colab": {
          "base_uri": "https://localhost:8080/"
        },
        "id": "uDgz9ho4OFzn",
        "outputId": "ba637e15-0a3f-4d67-b704-8ca36fd91e3a"
      },
      "execution_count": 1,
      "outputs": [
        {
          "output_type": "execute_result",
          "data": {
            "text/plain": [
              "array([[0, 1, 2, 3, 4],\n",
              "       [5, 6, 7, 8, 9]])"
            ]
          },
          "metadata": {},
          "execution_count": 1
        }
      ]
    },
    {
      "cell_type": "code",
      "source": [
        "df = pd.DataFrame(array)\n",
        "df"
      ],
      "metadata": {
        "colab": {
          "base_uri": "https://localhost:8080/",
          "height": 112
        },
        "id": "iR83mMKOOT_O",
        "outputId": "cb9706c9-a643-4677-f1f1-b5bcba0c522a"
      },
      "execution_count": 2,
      "outputs": [
        {
          "output_type": "execute_result",
          "data": {
            "text/plain": [
              "   0  1  2  3  4\n",
              "0  0  1  2  3  4\n",
              "1  5  6  7  8  9"
            ],
            "text/html": [
              "\n",
              "  <div id=\"df-bc37434d-adc8-4364-95e5-02634ace46f4\">\n",
              "    <div class=\"colab-df-container\">\n",
              "      <div>\n",
              "<style scoped>\n",
              "    .dataframe tbody tr th:only-of-type {\n",
              "        vertical-align: middle;\n",
              "    }\n",
              "\n",
              "    .dataframe tbody tr th {\n",
              "        vertical-align: top;\n",
              "    }\n",
              "\n",
              "    .dataframe thead th {\n",
              "        text-align: right;\n",
              "    }\n",
              "</style>\n",
              "<table border=\"1\" class=\"dataframe\">\n",
              "  <thead>\n",
              "    <tr style=\"text-align: right;\">\n",
              "      <th></th>\n",
              "      <th>0</th>\n",
              "      <th>1</th>\n",
              "      <th>2</th>\n",
              "      <th>3</th>\n",
              "      <th>4</th>\n",
              "    </tr>\n",
              "  </thead>\n",
              "  <tbody>\n",
              "    <tr>\n",
              "      <th>0</th>\n",
              "      <td>0</td>\n",
              "      <td>1</td>\n",
              "      <td>2</td>\n",
              "      <td>3</td>\n",
              "      <td>4</td>\n",
              "    </tr>\n",
              "    <tr>\n",
              "      <th>1</th>\n",
              "      <td>5</td>\n",
              "      <td>6</td>\n",
              "      <td>7</td>\n",
              "      <td>8</td>\n",
              "      <td>9</td>\n",
              "    </tr>\n",
              "  </tbody>\n",
              "</table>\n",
              "</div>\n",
              "      <button class=\"colab-df-convert\" onclick=\"convertToInteractive('df-bc37434d-adc8-4364-95e5-02634ace46f4')\"\n",
              "              title=\"Convert this dataframe to an interactive table.\"\n",
              "              style=\"display:none;\">\n",
              "        \n",
              "  <svg xmlns=\"http://www.w3.org/2000/svg\" height=\"24px\"viewBox=\"0 0 24 24\"\n",
              "       width=\"24px\">\n",
              "    <path d=\"M0 0h24v24H0V0z\" fill=\"none\"/>\n",
              "    <path d=\"M18.56 5.44l.94 2.06.94-2.06 2.06-.94-2.06-.94-.94-2.06-.94 2.06-2.06.94zm-11 1L8.5 8.5l.94-2.06 2.06-.94-2.06-.94L8.5 2.5l-.94 2.06-2.06.94zm10 10l.94 2.06.94-2.06 2.06-.94-2.06-.94-.94-2.06-.94 2.06-2.06.94z\"/><path d=\"M17.41 7.96l-1.37-1.37c-.4-.4-.92-.59-1.43-.59-.52 0-1.04.2-1.43.59L10.3 9.45l-7.72 7.72c-.78.78-.78 2.05 0 2.83L4 21.41c.39.39.9.59 1.41.59.51 0 1.02-.2 1.41-.59l7.78-7.78 2.81-2.81c.8-.78.8-2.07 0-2.86zM5.41 20L4 18.59l7.72-7.72 1.47 1.35L5.41 20z\"/>\n",
              "  </svg>\n",
              "      </button>\n",
              "      \n",
              "  <style>\n",
              "    .colab-df-container {\n",
              "      display:flex;\n",
              "      flex-wrap:wrap;\n",
              "      gap: 12px;\n",
              "    }\n",
              "\n",
              "    .colab-df-convert {\n",
              "      background-color: #E8F0FE;\n",
              "      border: none;\n",
              "      border-radius: 50%;\n",
              "      cursor: pointer;\n",
              "      display: none;\n",
              "      fill: #1967D2;\n",
              "      height: 32px;\n",
              "      padding: 0 0 0 0;\n",
              "      width: 32px;\n",
              "    }\n",
              "\n",
              "    .colab-df-convert:hover {\n",
              "      background-color: #E2EBFA;\n",
              "      box-shadow: 0px 1px 2px rgba(60, 64, 67, 0.3), 0px 1px 3px 1px rgba(60, 64, 67, 0.15);\n",
              "      fill: #174EA6;\n",
              "    }\n",
              "\n",
              "    [theme=dark] .colab-df-convert {\n",
              "      background-color: #3B4455;\n",
              "      fill: #D2E3FC;\n",
              "    }\n",
              "\n",
              "    [theme=dark] .colab-df-convert:hover {\n",
              "      background-color: #434B5C;\n",
              "      box-shadow: 0px 1px 3px 1px rgba(0, 0, 0, 0.15);\n",
              "      filter: drop-shadow(0px 1px 2px rgba(0, 0, 0, 0.3));\n",
              "      fill: #FFFFFF;\n",
              "    }\n",
              "  </style>\n",
              "\n",
              "      <script>\n",
              "        const buttonEl =\n",
              "          document.querySelector('#df-bc37434d-adc8-4364-95e5-02634ace46f4 button.colab-df-convert');\n",
              "        buttonEl.style.display =\n",
              "          google.colab.kernel.accessAllowed ? 'block' : 'none';\n",
              "\n",
              "        async function convertToInteractive(key) {\n",
              "          const element = document.querySelector('#df-bc37434d-adc8-4364-95e5-02634ace46f4');\n",
              "          const dataTable =\n",
              "            await google.colab.kernel.invokeFunction('convertToInteractive',\n",
              "                                                     [key], {});\n",
              "          if (!dataTable) return;\n",
              "\n",
              "          const docLinkHtml = 'Like what you see? Visit the ' +\n",
              "            '<a target=\"_blank\" href=https://colab.research.google.com/notebooks/data_table.ipynb>data table notebook</a>'\n",
              "            + ' to learn more about interactive tables.';\n",
              "          element.innerHTML = '';\n",
              "          dataTable['output_type'] = 'display_data';\n",
              "          await google.colab.output.renderOutput(dataTable, element);\n",
              "          const docLink = document.createElement('div');\n",
              "          docLink.innerHTML = docLinkHtml;\n",
              "          element.appendChild(docLink);\n",
              "        }\n",
              "      </script>\n",
              "    </div>\n",
              "  </div>\n",
              "  "
            ]
          },
          "metadata": {},
          "execution_count": 2
        }
      ]
    },
    {
      "cell_type": "code",
      "source": [
        "df.to_numpy()"
      ],
      "metadata": {
        "colab": {
          "base_uri": "https://localhost:8080/"
        },
        "id": "luA-M22ROba3",
        "outputId": "6874c850-7096-4c48-b6b2-f6b45deaffce"
      },
      "execution_count": 3,
      "outputs": [
        {
          "output_type": "execute_result",
          "data": {
            "text/plain": [
              "array([[0, 1, 2, 3, 4],\n",
              "       [5, 6, 7, 8, 9]])"
            ]
          },
          "metadata": {},
          "execution_count": 3
        }
      ]
    },
    {
      "cell_type": "markdown",
      "source": [
        "<h4 align='justify'><b>\n",
        "Q2. What can go wrong when an user enters in a stock-ticker symbol, and how do you handle it?</b></h4>\n",
        "<h4 align='justify'>A stock-ticker symbol change really means nothing to you, the investor, in the grand scheme of things. The change doesn't do anything to markets or to the way you execute trades. Since everything is electronic, your trading platform or broker will already update your portfolio to include the new stock-ticker symbol.</h4>\n"
      ],
      "metadata": {
        "id": "oNSRpmjdHdm4"
      }
    },
    {
      "cell_type": "markdown",
      "source": [
        "<h4 align='justify'><b>\n",
        "Q3. Identify some of the plotting techniques that are used to produce a stock-market chart.</b></h4>\n",
        "<h4 align='justify'>However, the four types that are most common are - <b>line chart, bar chart, histograms charts, pie charts, and Cartesian charts.</b> are used to produce a stock-market chart.</h4>"
      ],
      "metadata": {
        "id": "N_XYGuRHHhSX"
      }
    },
    {
      "cell_type": "markdown",
      "source": [
        "<h4 align='justify'><b>\n",
        "Q4. Why is it essential to print a legend on a stock market chart?</b></h4>\n",
        "<h4 align='justify'>In addition, <b>the legend displays information about the points that are currently hovered over or, if none are hovered over, about the last points shown on the plot.</b> The text of a legend item includes the name of a series and, depending on the series type, the value or values of the current last point.</h4> "
      ],
      "metadata": {
        "id": "Z_t6xfPKHkuI"
      }
    },
    {
      "cell_type": "markdown",
      "source": [
        "<h4 align='justify'><b>\n",
        "Q5. What is the best way to limit the length of a pandas data frame to less than a year?</b></h4>\n",
        "<h4 align='justify'>Downcasting means we reduce the datatypes of each feature to its lowest possible type. We can check the size of the dataframe again. We see that we now have several 8, 16 and 32 bit columns and we have effectively cut the size of our dataframe in half by simply <b>Changing the data types.</b></h4>"
      ],
      "metadata": {
        "id": "Sb8848abHnQY"
      }
    },
    {
      "cell_type": "markdown",
      "source": [
        "<h4 align='justify'><b>\n",
        "Q6. What is the definition of a 180-day moving average?</b></h4>\n",
        "<h4 align='justify'>In finance, a moving average(MA) is a stock indicator commonly used in technical analysis. The reason for calculating the moving average of a stock is to help smooth out the price data by creating a constantly updated average price.</h4>\n",
        "<h4 align='justify'>By calculating the moving average, the impacts of random, short-term fluctuations on the price of a stock over a specified time frame are mitigated.</h4>"
      ],
      "metadata": {
        "id": "bb2JmSzVHqNo"
      }
    },
    {
      "cell_type": "markdown",
      "source": [
        "<h4 align='justify'><b>\n",
        "Q7. Did the chapter&#39;s final example use &quot;indirect&quot; importing? If so, how exactly do you do it?</b></h4>\n",
        "<h4 align='justify'>An indirect exporter can sell to the following intermediary customers: export houses(trading houses or export merchants, confirming houses, and foreign organizations based in the organization's country.)</h4>"
      ],
      "metadata": {
        "id": "7EVLy4BrHtSp"
      }
    }
  ]
}