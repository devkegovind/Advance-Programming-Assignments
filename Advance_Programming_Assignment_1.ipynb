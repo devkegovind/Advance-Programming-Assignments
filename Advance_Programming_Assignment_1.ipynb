{
  "nbformat": 4,
  "nbformat_minor": 0,
  "metadata": {
    "colab": {
      "provenance": []
    },
    "kernelspec": {
      "name": "python3",
      "display_name": "Python 3"
    },
    "language_info": {
      "name": "python"
    }
  },
  "cells": [
    {
      "cell_type": "markdown",
      "source": [
        "---\n",
        "<h1 align='center'><b>ADVANCE PROGRAMMING ASSIGNMENT NO.1</b>\n",
        "</h1>\n",
        "\n",
        "---"
      ],
      "metadata": {
        "id": "MsblB-zUdYZs"
      }
    },
    {
      "cell_type": "markdown",
      "source": [
        "<h4 align='justify'><b>Q1. What is the purpose of Python&#39;s OOP?</b></h4>\n",
        "<h4 align=justify'> Object Oriented Programming is a way of computer programming using the idea of \"objects\" to represents data and methods. It is also, an approach used for creating neat and reusable code instead of a redundant one. The program is divided into self-contained objects or several mini-programs. Every individual object represents a different part of the application having its own logic and data to communicate within themselves. Now, to get a more clear picture of why we use oops.</h4>\n",
        "\n",
        "- its a bottom-up approach.\n",
        "- Program is divided into objects.\n",
        "- Makes use of Access modifiers\n",
        "(public, private, protected)\n",
        "- It is more secure.\n",
        "- Object can move freely within member functions.\n",
        "- It supports inheritance."
      ],
      "metadata": {
        "id": "r_JmppKedYvb"
      }
    },
    {
      "cell_type": "markdown",
      "source": [
        "<h4 align='justify'><b>Q2. Where does an inheritance search look for an attribute?</b></h4>\n",
        "<h4 align='justify'>An inheritance search looks for an attribute first in the instance object, then in the class the instance was created from, then in all higher superclasses, progressing from left to right(by default). The search stops at the first place the attribute is found.</h4>"
      ],
      "metadata": {
        "id": "0OdsWy5Ce936"
      }
    },
    {
      "cell_type": "markdown",
      "source": [
        "<h4 align='justify'><b>Q3. How do you distinguish between a class object and an instance object?</b></h4>\n",
        "<h4 align='justify'>When we <b>create</b> a class in python then a <b>class object</b> is created so whenever python finds a class statement in the whole program then it creates a class object and assigns a name to that object i.e. class name. As we know in python, everything is an object so the class itself is an object.</h4>"
      ],
      "metadata": {
        "id": "PDGS4F-4fAkf"
      }
    },
    {
      "cell_type": "code",
      "source": [
        "class MyClass:\n",
        "  pass"
      ],
      "metadata": {
        "id": "i-rPVsbk5TG0"
      },
      "execution_count": null,
      "outputs": []
    },
    {
      "cell_type": "markdown",
      "source": [
        "<h4 align='justify'>Above code will generate a class object and name it 'MyClass'. From this class object, we will create <b>instance objetcs</b>\n",
        "The class object comes from the 'class' statement in code. Whenever we encounter a class statement then a <b>class object</b> will be created. class object inherits the attributes of its parent classes.</h4>\n",
        "\n",
        "<h4><b>instance object</b> \n",
        "\n",
        "<h4 align = justify'>When we <b>call</b> a class, it creates an instance object of that class from which the object has been created.for example when we call the above-created class then it will create an instance object like this.</h4> \n",
        "\n",
        "```\n",
        " obj1 = MyClass()\n",
        "```\n",
        "<h4 align='justify'>The above statement creates an object and names it to <b>obj1</b> which is an instance of MyClass. With the help of instance object can access everything defined in the class, and in the class object, we define the default behaviour and properties of objects.</h4>"
      ],
      "metadata": {
        "id": "pV1auQRT5Xir"
      }
    },
    {
      "cell_type": "markdown",
      "source": [
        "<h4 align='justify'><b>Q4. What makes the first argument in a class’s method function special?</b></h4>\n",
        "<h4 align='justify'>The reason you need to use <b>self.</b> is because python does not use special syntax to refer to instance attributes. Python decided to do methods in a way that makes the instance to which the method belongs be <i>passed</i> automatically; the first parameter of methods is the instance the method is a called on. That makes methods entirely the same as functions, and leaves the actual name to use up to you(although self is the convenction, and people will generally frown at you when you use something else.) self is not special to the code, it's just another object.</h4>"
      ],
      "metadata": {
        "id": "K4FSACskfC02"
      }
    },
    {
      "cell_type": "markdown",
      "source": [
        "<h4 align='justify'><b>Q5. What is the purpose of the __init__ method?</b></h4>\n",
        "<h4 align='justify'>__init__ is one of the reserved methods in Python. In object oriented programming, it is known as a constructor. The __init__ method can be called when an object is created from the class, and access is required to inialize the attributes of the class.</h4>"
      ],
      "metadata": {
        "id": "lBBQlIHmfFNn"
      }
    },
    {
      "cell_type": "markdown",
      "source": [
        "<h4 align='justify'><b>Q6. What is the process for creating a class instance?</b></h4>\n",
        "<h4 align='justify'>To create instance of a class, you call the class using class name and pass in whatever argument its __init__ method accepts.</h4>"
      ],
      "metadata": {
        "id": "LGJ7d_zvfIM2"
      }
    },
    {
      "cell_type": "markdown",
      "source": [
        "<h4 align='justify'><b>Q7. What is the process for creating a class?</b></h4>\n",
        "<h4 align='justify'>In Python, a class can be created by using the keyword class, followed by the class name. The syntax to create a class is given below:</h4>\n",
        "\n",
        "```\n",
        "class ClassName:\n",
        "  #statement\n",
        "  ```"
      ],
      "metadata": {
        "id": "LdoWlPI1fKWv"
      }
    },
    {
      "cell_type": "markdown",
      "source": [
        "<h4 align='justify'><b>Q8. How would you define the superclasses of a class?</b></h4>\n",
        "<h4 align='justify'>A class that is derived from another class is called a subclass(also a derived class, extended class, or child class). The class from which the subclass is derived is called a superclass(also a base class or parent class).</h4>"
      ],
      "metadata": {
        "id": "THGXfC24fM0n"
      }
    }
  ]
}