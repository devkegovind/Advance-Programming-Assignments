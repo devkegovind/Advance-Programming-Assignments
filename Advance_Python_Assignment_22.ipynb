{
  "nbformat": 4,
  "nbformat_minor": 0,
  "metadata": {
    "colab": {
      "provenance": []
    },
    "kernelspec": {
      "name": "python3",
      "display_name": "Python 3"
    },
    "language_info": {
      "name": "python"
    }
  },
  "cells": [
    {
      "cell_type": "markdown",
      "source": [
        "---\n",
        "<h1 align='center'><b>ADVANCE PYTHON ASSIGNMENT NO.22</b></h1>\n",
        "\n",
        "\n",
        "---"
      ],
      "metadata": {
        "id": "3PPOqJjeVbE9"
      }
    },
    {
      "cell_type": "markdown",
      "source": [
        "<h4 align='justify'><b>Q1. What are the benefits of the built-in array package, if any?</b></h4>\n",
        "<h4 align='justify'>Arrays represent multiple data items of the same type using a single name. In arrays, the elements can be accessed randomly  by using index number. Arrays allocate memory in contigous memory locations for all its elements. Hence there is no chance to extra memory being allocated in case of arrays. This avoids memory overflow or shortage of memory in arrays.</h4>\n",
        "<h4 align='justify'><b>Q2. What are some of the array package's limitations?</b></h4>\n",
        "<h4 align='justify'>The number of elemnts to be stored in an array should be unknown in advance. An array is a static structure (which means the array is of fixed size). Once declared the size of the array cannot be modified. The memory which is allocated to it cannot be increased or decreased. Insertion and deletion are quite difficult in an array as the elements are stored in consecutive memory locations and the shifting operation is costly. Allocating more memory than the requirement leads to wastage of memory space and less allocation of memory also leads to a problem.</h4>\n",
        "<h4 align='justify'><b>Q3. Describe the main differences between the array and numpy packages.</b></h4>\n",
        "<h4 align='justify'>The array package doesn't provide any help with numerical calculation with the items inside it in number form while NumPy give you a wide variety of numerical operations. An array is a single dimensional entity which hold the numeric data, while NumPy can have more than 1 dimension. In case of array, item can be accessed by its index position and it is easy task while in NumPy is accessed by its column and row index, which makes it slightly time taking. Same goes with appending operation. In case of array we do not form a tabular structure, while in NumPy it forms a tabular structure.</h4>\n",
        "<h4 align='justify'><b>Q4. Explain the distinctions between the empty, ones, and zeros functions.</b></h4>\n",
        "<h4 align='justify'><b>Empty Function:</b> \n",
        "<h4 align='justify'>An empty function is a function that does not conatin any statement within its body. If you try to write a function definition without any statement in python, it will return an error. To avoid this, we use pass statement. pass is a special statement in Python that does nothing. It works as a dummy.</h4>\n",
        "\n",
        "<h4 align='justify'><b>Ones Function:</b></h4>\n",
        "<h4 align='justify'>This function returns a new array of given shape and data type, where the element's value is 1.</h4>\n",
        "\n",
        "<h4 align='justify'><b>Zeros Functions:</b></h4>\n",
        "<h4 align='justify'>This function returns a new array of given shape and data type, where the element's value is 0.</h4>\n",
        "\n",
        "<h4 align='justify'><b>Q5. In the from function, which is used to construct new arrays, what is the role of the callable argument?</b></h4>\n",
        "<h4 align='justify'>Its function is to execute the function over each coordinate and the resulting array. The function is called with N parameters, where N is the rank of shape. Each parameter represents the coordinates of the array varying along a specific axis.</h4>\n",
        "<h4 align='justify'><b>\n",
        "Q6. What happens when a numpy array is combined with a single-value operand (a scalar, such as an int or a floating-point value) through addition, as in the expression A + n?</b></h4>\n",
        "<h4 align='justify'>If any scaler value such as integer is added to the numpy array then all the elements inside the array will add that in it.</h4>\n",
        "<h4 align='justify'>Example:</h4>"
      ],
      "metadata": {
        "id": "AsoMFqxfVjBU"
      }
    },
    {
      "cell_type": "code",
      "source": [
        "import numpy as np\n",
        "a = np.arange(9).reshape(3,3)\n",
        "print(a)\n",
        "print()\n",
        "print(a+1)\n",
        "print()\n",
        "print(a)"
      ],
      "metadata": {
        "colab": {
          "base_uri": "https://localhost:8080/"
        },
        "id": "Vf39UosEfcst",
        "outputId": "1a00d315-3c3b-4e87-cd9f-625c03f76ad6"
      },
      "execution_count": 7,
      "outputs": [
        {
          "output_type": "stream",
          "name": "stdout",
          "text": [
            "[[0 1 2]\n",
            " [3 4 5]\n",
            " [6 7 8]]\n",
            "\n",
            "[[1 2 3]\n",
            " [4 5 6]\n",
            " [7 8 9]]\n",
            "\n",
            "[[0 1 2]\n",
            " [3 4 5]\n",
            " [6 7 8]]\n"
          ]
        }
      ]
    },
    {
      "cell_type": "markdown",
      "source": [
        "<h4 align = 'justify'><b>Q7. Can array-to-scalar operations use combined operation-assign operators (such as += or *=)? What is the outcome?</b></h4>\n",
        "<h4 align = 'justify'>It will do the operations as per operators. Like if we use + operand it will update the current array by adding and when we use '*', it will update by multiplying.</h4>\n",
        "<h4>Example:</h4>"
      ],
      "metadata": {
        "id": "P9uIR1lhfeB7"
      }
    },
    {
      "cell_type": "code",
      "source": [
        "print(a)\n",
        "print()\n",
        "a += 1\n",
        "print()\n",
        "print(a)\n",
        "print()\n",
        "a *= 2\n",
        "print(a)"
      ],
      "metadata": {
        "colab": {
          "base_uri": "https://localhost:8080/"
        },
        "id": "xNdGJKyQg3uE",
        "outputId": "a4d3fa38-3115-4146-c635-75cbb71394a2"
      },
      "execution_count": 5,
      "outputs": [
        {
          "output_type": "stream",
          "name": "stdout",
          "text": [
            "[[0 1 2]\n",
            " [3 4 5]\n",
            " [6 7 8]]\n",
            "\n",
            "\n",
            "[[1 2 3]\n",
            " [4 5 6]\n",
            " [7 8 9]]\n",
            "\n",
            "[[ 2  4  6]\n",
            " [ 8 10 12]\n",
            " [14 16 18]]\n"
          ]
        }
      ]
    },
    {
      "cell_type": "markdown",
      "source": [
        "<h4 align='justify'><b>Q8. Does a numpy array contain fixed-length strings? What happens if you allocate a longer string to one of these arrays?</b></h4>\n",
        "<h4 align='justify'>Yes, it is possible that we can include a string of fixed length in numpy array. The dtype of any numpy array containing string values is the maximum length of any string present in the array. Once set,  it will only be able to store new string having length not more than the maximum length at the time of the creation. If we try to reassign some another string value having length greater than the maximum length of the existing elements. It simply discards all the values beyond\n",
        "the maximum length accept upto those values which are under the limit.</h4>\n"
      ],
      "metadata": {
        "id": "dYf0JT3_g05c"
      }
    },
    {
      "cell_type": "code",
      "execution_count": 9,
      "metadata": {
        "colab": {
          "base_uri": "https://localhost:8080/"
        },
        "id": "SutOqvwcVOoT",
        "outputId": "55844c84-4e3e-4664-a2cd-c9f5315bd2ad"
      },
      "outputs": [
        {
          "output_type": "stream",
          "name": "stdout",
          "text": [
            "['under' 'mohan' 'shiva']\n"
          ]
        }
      ],
      "source": [
        "import numpy as np\n",
        "name = np.array(['ram', 'mohan', 'shiva'])\n",
        "name\n",
        "\n",
        "name[name == 'ram'] = 'undertaker'\n",
        "print(name)"
      ]
    },
    {
      "cell_type": "markdown",
      "source": [
        "<h4 align='justify'><b>Q9. What happens when you combine two numpy arrays using an operation like addition (+) or multiplication (*)? What are the conditions for combining two numpy arrays?</b></h4>\n",
        "<h4 align='justify'>It will simply add or multiply element to element at the same position. The only requirement which must be met are:</h4>\n",
        "\n",
        "1.   Data type should be same.\n",
        "2.   Shape of the two metrices must be same."
      ],
      "metadata": {
        "id": "P-hWZrL6kpCN"
      }
    },
    {
      "cell_type": "code",
      "source": [
        "a1 = a\n",
        "a1"
      ],
      "metadata": {
        "colab": {
          "base_uri": "https://localhost:8080/"
        },
        "id": "NJcroqGomKos",
        "outputId": "cd6909fa-e1ad-4bb6-db92-59300985c392"
      },
      "execution_count": 10,
      "outputs": [
        {
          "output_type": "execute_result",
          "data": {
            "text/plain": [
              "array([[0, 1, 2],\n",
              "       [3, 4, 5],\n",
              "       [6, 7, 8]])"
            ]
          },
          "metadata": {},
          "execution_count": 10
        }
      ]
    },
    {
      "cell_type": "code",
      "source": [
        "a2 = a1 + 2"
      ],
      "metadata": {
        "id": "E66mMlKimMRl"
      },
      "execution_count": 11,
      "outputs": []
    },
    {
      "cell_type": "code",
      "source": [
        "a2"
      ],
      "metadata": {
        "colab": {
          "base_uri": "https://localhost:8080/"
        },
        "id": "eDb_vyKBmewX",
        "outputId": "25921094-5d4b-4740-f67f-26ba0da3958f"
      },
      "execution_count": 12,
      "outputs": [
        {
          "output_type": "execute_result",
          "data": {
            "text/plain": [
              "array([[ 2,  3,  4],\n",
              "       [ 5,  6,  7],\n",
              "       [ 8,  9, 10]])"
            ]
          },
          "metadata": {},
          "execution_count": 12
        }
      ]
    },
    {
      "cell_type": "code",
      "source": [
        "a1 + a2"
      ],
      "metadata": {
        "colab": {
          "base_uri": "https://localhost:8080/"
        },
        "id": "nP-Gwf1Mmf1H",
        "outputId": "b5beb37e-9428-4d35-92cf-bf0a7fed8a5e"
      },
      "execution_count": 13,
      "outputs": [
        {
          "output_type": "execute_result",
          "data": {
            "text/plain": [
              "array([[ 2,  4,  6],\n",
              "       [ 8, 10, 12],\n",
              "       [14, 16, 18]])"
            ]
          },
          "metadata": {},
          "execution_count": 13
        }
      ]
    },
    {
      "cell_type": "code",
      "source": [
        "a1 * a2"
      ],
      "metadata": {
        "colab": {
          "base_uri": "https://localhost:8080/"
        },
        "id": "X3vyAv7Lmmiv",
        "outputId": "294efe9c-f826-4ad5-ed4d-4ff8e3ead3fd"
      },
      "execution_count": 14,
      "outputs": [
        {
          "output_type": "execute_result",
          "data": {
            "text/plain": [
              "array([[ 0,  3,  8],\n",
              "       [15, 24, 35],\n",
              "       [48, 63, 80]])"
            ]
          },
          "metadata": {},
          "execution_count": 14
        }
      ]
    },
    {
      "cell_type": "code",
      "source": [
        "a1 + a2.reshape(9, 1)"
      ],
      "metadata": {
        "colab": {
          "base_uri": "https://localhost:8080/",
          "height": 166
        },
        "id": "8Ea1lWfQmouH",
        "outputId": "fbeaf75c-b243-4700-f4e3-17bd0f1524a7"
      },
      "execution_count": 15,
      "outputs": [
        {
          "output_type": "error",
          "ename": "ValueError",
          "evalue": "ignored",
          "traceback": [
            "\u001b[0;31m---------------------------------------------------------------------------\u001b[0m",
            "\u001b[0;31mValueError\u001b[0m                                Traceback (most recent call last)",
            "\u001b[0;32m<ipython-input-15-3cad42deee7d>\u001b[0m in \u001b[0;36m<module>\u001b[0;34m\u001b[0m\n\u001b[0;32m----> 1\u001b[0;31m \u001b[0ma1\u001b[0m \u001b[0;34m+\u001b[0m \u001b[0ma2\u001b[0m\u001b[0;34m.\u001b[0m\u001b[0mreshape\u001b[0m\u001b[0;34m(\u001b[0m\u001b[0;36m9\u001b[0m\u001b[0;34m,\u001b[0m \u001b[0;36m1\u001b[0m\u001b[0;34m)\u001b[0m\u001b[0;34m\u001b[0m\u001b[0;34m\u001b[0m\u001b[0m\n\u001b[0m",
            "\u001b[0;31mValueError\u001b[0m: operands could not be broadcast together with shapes (3,3) (9,1) "
          ]
        }
      ]
    },
    {
      "cell_type": "code",
      "source": [
        "a1 * a2.reshape(9, 1)"
      ],
      "metadata": {
        "colab": {
          "base_uri": "https://localhost:8080/",
          "height": 166
        },
        "id": "a89P0p24m0R0",
        "outputId": "cb899064-e254-4b05-f631-b21f406fa2a8"
      },
      "execution_count": 16,
      "outputs": [
        {
          "output_type": "error",
          "ename": "ValueError",
          "evalue": "ignored",
          "traceback": [
            "\u001b[0;31m---------------------------------------------------------------------------\u001b[0m",
            "\u001b[0;31mValueError\u001b[0m                                Traceback (most recent call last)",
            "\u001b[0;32m<ipython-input-16-0d7e8751ef02>\u001b[0m in \u001b[0;36m<module>\u001b[0;34m\u001b[0m\n\u001b[0;32m----> 1\u001b[0;31m \u001b[0ma1\u001b[0m \u001b[0;34m*\u001b[0m \u001b[0ma2\u001b[0m\u001b[0;34m.\u001b[0m\u001b[0mreshape\u001b[0m\u001b[0;34m(\u001b[0m\u001b[0;36m9\u001b[0m\u001b[0;34m,\u001b[0m \u001b[0;36m1\u001b[0m\u001b[0;34m)\u001b[0m\u001b[0;34m\u001b[0m\u001b[0;34m\u001b[0m\u001b[0m\n\u001b[0m",
            "\u001b[0;31mValueError\u001b[0m: operands could not be broadcast together with shapes (3,3) (9,1) "
          ]
        }
      ]
    },
    {
      "cell_type": "markdown",
      "source": [
        "<h4 align='justify'><b>\n",
        "Q10. What is the best way to use a Boolean array to mask another array?</b></h4>"
      ],
      "metadata": {
        "id": "oFuCFKeonODb"
      }
    },
    {
      "cell_type": "code",
      "source": [
        "import numpy as np\n",
        "y = np.array([True, True, False, True])\n",
        "x= np.array([1,2,3,4])\n",
        "m = np.ma.masked_where(x>2, y)\n",
        "print(list(m))\n",
        "print()\n",
        "print(m.ndim)"
      ],
      "metadata": {
        "colab": {
          "base_uri": "https://localhost:8080/"
        },
        "id": "D6UvG198m7e4",
        "outputId": "83c1eee7-aa33-44e0-c255-3215872ea641"
      },
      "execution_count": 25,
      "outputs": [
        {
          "output_type": "stream",
          "name": "stdout",
          "text": [
            "[True, True, masked, masked]\n",
            "\n",
            "1\n"
          ]
        }
      ]
    },
    {
      "cell_type": "markdown",
      "source": [
        "<h4 aling='justify'><b>Q11. What are three different ways to get the standard deviation of a wide collection of data using both standard Python and its packages? Sort the three of them by how quickly they execute.</b></h4>\n",
        "<h4 aling='justify'>Standard deviation can be calculated in many ways. If we see the formula of SD, it says</h4>\n",
        "\n",
        "  <h4><b>std = Square Root of [ Summation of [square of (x-mean) / number of observation]].</b></h4>\n",
        "\n",
        "\n",
        "```\n",
        "# 1. Using math module\n",
        "import math\n",
        "N = 1\n",
        "avg = a\n",
        "total = N\n",
        "x = [1, 2]\n",
        "SD = math.sqrt((1 - a)** 2 + ( 2 - a) ** 2/N)\n",
        "\n",
        "# 2. Using Numpy Array package \n",
        "import numpy as np\n",
        "SD = np.std(x)\n",
        "\n",
        "# 3. General calculation without using any package\n",
        "SD = (((1 - avg)**2 + (2-avg)**2)/N)**1/2\n",
        "\n",
        "```"
      ],
      "metadata": {
        "id": "EkEZaedinama"
      }
    },
    {
      "cell_type": "markdown",
      "source": [
        "<h4 align='justify'><b>12. What is the dimensionality of a Boolean mask-generated array?</b></h4>\n",
        "<h4 align='justify'>The dimensionality of a Boolean mask-generated array is one dimensional.</h4>"
      ],
      "metadata": {
        "id": "ZOvENOyAq_RI"
      }
    }
  ]
}