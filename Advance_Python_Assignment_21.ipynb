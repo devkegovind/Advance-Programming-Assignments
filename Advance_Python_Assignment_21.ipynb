{
  "nbformat": 4,
  "nbformat_minor": 0,
  "metadata": {
    "colab": {
      "provenance": []
    },
    "kernelspec": {
      "name": "python3",
      "display_name": "Python 3"
    },
    "language_info": {
      "name": "python"
    }
  },
  "cells": [
    {
      "cell_type": "markdown",
      "source": [
        "---\n",
        "<h1 align='center'><b>ADVANCE PYTHON ASSIGNMENT NO.21</b></h1>\n",
        "\n",
        "\n",
        "---"
      ],
      "metadata": {
        "id": "rcb85AphtBLk"
      }
    },
    {
      "cell_type": "markdown",
      "source": [
        "<h4 align='justify'><b>Q1. What is a probability distribution, exactly? If the values are meant to be random, how can you predict them at all?</b></h4>\n",
        "<h4 align='justify'>A probability distribution describes how a random variable is distributed, it tells us which values a random variable is most likely to take on and which values are less likely. Based on the previous data and the occurences of the random event, we can predict the outcome in terms of probalities.</h4>"
      ],
      "metadata": {
        "id": "U-JvucortBBt"
      }
    },
    {
      "cell_type": "markdown",
      "source": [
        "<h4 align='justify'><b>Q2. Is there a distinction between true random numbers and pseudo-random numbers, if there is one? Why are the latter considered “good enough”?</b></h4>\n",
        "<h4 align='justify'>The difference between true random number(TRN) and pseudo-random number(PRN), is that TRN's are unpredictable physical values means (like atmospheric noise), and PRN rae generated using mathematical algorithms (completely computer-generated). The PRN's are good enough as they follow an uniformdistribution and the seed for generating PRN is unpredictable and unknown.</h4>"
      ],
      "metadata": {
        "id": "mvjW_LDbMSz0"
      }
    },
    {
      "cell_type": "markdown",
      "source": [
        "<h4 align='justify'><b>\n",
        "Q3. What are the two main factors that influence the behaviour of a &quot;normal&quot; probability distribution?</b></h4>\n",
        "<h4 align='justify'>A normal distribution is determined by two parameters the mean and the varaiance. A normal distribution with a mean of 0 and a standard deviation of 1 is called standard normal distribution.</h4>"
      ],
      "metadata": {
        "id": "j3SGNUqxOGvJ"
      }
    },
    {
      "cell_type": "markdown",
      "source": [
        "<h4 align='justify'><b>\n",
        "Q4. Provide a real-life example of a normal distribution.</b></h4>\n",
        "<h4 align='justify'>A fair rolling of dice is also a good example of normal distribution.</h4>"
      ],
      "metadata": {
        "id": "IQH0ZKPkPjzE"
      }
    },
    {
      "cell_type": "markdown",
      "source": [
        "<h4 align='justify'><b>\n",
        "Q5. In the short term, how can you expect a probability distribution to behave? What do you think will happen as the number of trials grows?</b></h4>\n",
        "<h4 align='justify'>When trails are less, the variance will large. As the number of trials increase, the variance will reduce.</h4>"
      ],
      "metadata": {
        "id": "t8SKywPUQGNT"
      }
    },
    {
      "cell_type": "markdown",
      "source": [
        "<h4 align='justify'><b>\n",
        "Q6. What kind of object can be shuffled by using random.shuffle?\n",
        "<h4 align='justify'>random.shuffle can used to shuffle object.</h4>"
      ],
      "metadata": {
        "id": "Lvrpmd_zQ1wi"
      }
    },
    {
      "cell_type": "markdown",
      "source": [
        "<h4 align='justify'><b>\n",
        "Q7. Describe the math package&#39;s general categories of functions.</b></h4>\n",
        "<h4 align='justify'>The general categories of math package are:</h4>\n",
        "\n",
        "1. Trignometric functions\n",
        "2. Quadratic functions\n",
        "3. Exponential functions\n",
        "4. Hyperbolic functions\n",
        "5. Periodic functions\n",
        "6. Arithmetic functions\n",
        "7. Logarithmic functions\n",
        "8. Conversion to Integer"
      ],
      "metadata": {
        "id": "MkhdVPxIRPjb"
      }
    },
    {
      "cell_type": "markdown",
      "source": [
        "<h4 align='justify'><b>\n",
        "Q8. What is the relationship between exponentiation and logarithms?</b></h4>The exponential function is given by $f(x) = ex$, whereas the logarithmic function is given by $g(x) = ln x$, and former is the inverse of the letter.</h4>"
      ],
      "metadata": {
        "id": "xJW3dJbRSZPW"
      }
    },
    {
      "cell_type": "markdown",
      "source": [
        "<h4 align='justify'><b>\n",
        "Q9. What are the three logarithmic functions that Python supports?</b></h4>\n",
        "\n",
        "1.   $log2(x)$ - logarithmic value of x to base 2\n",
        "2.   $log10(x)$ - logarithmic value of x to base 10\n",
        "3.   $log(x, base)$ - logarithmic value of x to base. If only first parameter is given, it compute its value to base e, natural logarithm\n",
        "4.   $log1p(x)$ - natural logarithm (base e) value of 1+x"
      ],
      "metadata": {
        "id": "cCOQH4IaU55c"
      }
    }
  ]
}